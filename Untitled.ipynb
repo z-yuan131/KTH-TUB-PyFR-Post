{
 "cells": [
  {
   "cell_type": "code",
   "execution_count": 1,
   "id": "de6c5a32",
   "metadata": {},
   "outputs": [],
   "source": [
    "from pyfr.shapes import BaseShape\n",
    "from pyfr.util import lazyprop, subclass_where\n",
    "from pyfr.inifile import Inifile\n",
    "from pyfr.readers.native import NativeReader\n",
    "from collections import defaultdict\n",
    "import numpy as np\n",
    "from tqdm import tqdm\n",
    "\n",
    "\n",
    "class load_class(object):\n",
    "    def __init__(self,names):\n",
    "        self.cfgname = names[0]\n",
    "        self.meshname = names[1]\n",
    "        self.solnname = names[2]\n",
    "\n",
    "        \n",
    "        \n",
    "    def load_ini(self):\n",
    "        from argparse import ArgumentParser, FileType\n",
    "\n",
    "        ap = ArgumentParser(description='Read interpolation argument.')\n",
    "        ap.add_argument('--data_dir', type=str, default='./channel_Retau180.ini',\n",
    "                           help='data directory containing input.txt')\n",
    "        ap.add_argument('cfg', type=FileType('r'), help='config file')\n",
    "\n",
    "        args = ap.parse_args([self.cfgname])\n",
    "        confg = Inifile.load(args.cfg)\n",
    "\n",
    "        return confg\n",
    "\n",
    "    def load_soln(self):\n",
    "        from argparse import ArgumentParser, FileType\n",
    "\n",
    "        ap = ArgumentParser(description='Read interpolation argument.')\n",
    "        ap.add_argument('--data_dir', type=str, default='./100.pyfrs',\n",
    "                           help='data directory containing input.txt')\n",
    "        ap.add_argument('solnf', type=FileType('r'), help='solution file')\n",
    "\n",
    "        args = ap.parse_args([self.solnname])\n",
    "        #print(args)\n",
    "        soln = NativeReader(args.solnf.name)\n",
    "\n",
    "        return soln\n",
    "\n",
    "    def load_mesh(self):\n",
    "        from argparse import ArgumentParser, FileType\n",
    "\n",
    "        ap = ArgumentParser(description='Read interpolation argument.')\n",
    "        ap.add_argument('--data_dir', type=str, default='./100.pyfrs',\n",
    "                           help='data directory containing input.txt')\n",
    "        ap.add_argument('meshf', type=FileType('r'), help='solution file')\n",
    "\n",
    "        args = ap.parse_args([self.meshname])\n",
    "        #print(args)\n",
    "        mesh = NativeReader(args.meshf.name)\n",
    "\n",
    "        return mesh\n",
    "    \n",
    "    def return_fun(self):\n",
    "        return self.confg,self.soln,self.mesh\n",
    "\n"
   ]
  },
  {
   "cell_type": "code",
   "execution_count": null,
   "id": "08e0e735",
   "metadata": {},
   "outputs": [],
   "source": []
  },
  {
   "cell_type": "code",
   "execution_count": 132,
   "id": "802dc99d",
   "metadata": {},
   "outputs": [
    {
     "data": {
      "text/plain": [
       "(125, 63405, 3)"
      ]
     },
     "execution_count": 132,
     "metadata": {},
     "output_type": "execute_result"
    }
   ],
   "source": [
    "name = ['naca0012.ini','../../Re5e4/mesh.pyfrm','./../pyfrs/naca0012_60.0000.pyfrs']\n",
    "Mymesh = load_class(name).load_mesh()\n",
    "Mymesh['spt_hex_p0'].shape"
   ]
  },
  {
   "cell_type": "code",
   "execution_count": 300,
   "id": "6ba173fd",
   "metadata": {},
   "outputs": [
    {
     "name": "stdout",
     "output_type": "stream",
     "text": [
      "546000\n",
      "495200.0\n"
     ]
    }
   ],
   "source": [
    "a = 0\n",
    "b = 0\n",
    "for key in Mymesh.keys():\n",
    "    if key.split('_')[0]  == 'spt':\n",
    "        #print(key,Mymesh[key].shape)\n",
    "        if key.split('_')[1] == 'hex':\n",
    "            a += Mymesh[key].shape[1]\n",
    "            c = Mymesh[key].shape[0]\n",
    "        elif key.split('_')[1] == 'pri':\n",
    "            b += Mymesh[key].shape[1]\n",
    "            d = Mymesh[key].shape[0]\n",
    "print(a+b)\n",
    "print(a/26*c/5+b/26*d/5)"
   ]
  },
  {
   "cell_type": "code",
   "execution_count": 11,
   "id": "91024d3f",
   "metadata": {},
   "outputs": [
    {
     "data": {
      "text/plain": [
       "3.778076171875"
      ]
     },
     "execution_count": 11,
     "metadata": {},
     "output_type": "execute_result"
    }
   ],
   "source": [
    "495200.0 * 8 /1024/1024"
   ]
  },
  {
   "cell_type": "code",
   "execution_count": 13,
   "id": "6b757062",
   "metadata": {},
   "outputs": [
    {
     "data": {
      "text/plain": [
       "495200.0"
      ]
     },
     "execution_count": 13,
     "metadata": {},
     "output_type": "execute_result"
    }
   ],
   "source": [
    "468520*125/26/5 + 77480*75/26/5"
   ]
  },
  {
   "cell_type": "code",
   "execution_count": 15,
   "id": "64afb32a",
   "metadata": {},
   "outputs": [
    {
     "data": {
      "text/plain": [
       "30.224609375"
      ]
     },
     "execution_count": 15,
     "metadata": {},
     "output_type": "execute_result"
    }
   ],
   "source": [
    "495200.0 * 8 *8/1024/1024"
   ]
  },
  {
   "cell_type": "code",
   "execution_count": 16,
   "id": "823e6559",
   "metadata": {},
   "outputs": [
    {
     "data": {
      "text/plain": [
       "32.088134765625"
      ]
     },
     "execution_count": 16,
     "metadata": {},
     "output_type": "execute_result"
    }
   ],
   "source": [
    "33646848 / 1024 /1024"
   ]
  },
  {
   "cell_type": "code",
   "execution_count": null,
   "id": "77a53757",
   "metadata": {},
   "outputs": [],
   "source": []
  },
  {
   "cell_type": "code",
   "execution_count": null,
   "id": "576e5383",
   "metadata": {},
   "outputs": [],
   "source": []
  },
  {
   "cell_type": "code",
   "execution_count": 4,
   "id": "53e68707",
   "metadata": {},
   "outputs": [],
   "source": [
    "import h5py"
   ]
  },
  {
   "cell_type": "code",
   "execution_count": 192,
   "id": "8107ecf8",
   "metadata": {},
   "outputs": [
    {
     "data": {
      "text/plain": [
       "<KeysViewHDF5 ['hex_1005_p5_0', 'hex_1005_p5_0_p4_0', 'hex_1005_p5_0_p4_0_p5_-1', 'hex_1078_p7_0', 'hex_1078_p7_0_p2_0', 'hex_1078_p7_0_p2_0_p7_-1', 'hex_1151_p0_0', 'hex_1151_p0_0_p1_0', 'hex_1151_p0_0_p1_0_p0_-1', 'hex_131_p7_0', 'hex_131_p7_0_p2_0', 'hex_131_p7_0_p2_0_p7_-1', 'hex_1328_p7_0', 'hex_1328_p7_0_p2_0', 'hex_1328_p7_0_p2_0_p7_-1', 'hex_1349_p5_0', 'hex_1349_p5_0_p4_0', 'hex_1349_p5_0_p4_0_p5_-1', 'hex_1359_p7_0', 'hex_1359_p7_0_p2_0', 'hex_1359_p7_0_p2_0_p7_-1', 'hex_1427_p7_0', 'hex_1427_p7_0_p2_0', 'hex_1427_p7_0_p2_0_p7_-1', 'hex_1469_p3_0', 'hex_1469_p3_0_p2_0', 'hex_1469_p3_0_p2_0_p3_-1', 'hex_169_p5_0', 'hex_169_p5_0_p4_0', 'hex_169_p5_0_p4_0_p5_-1', 'hex_1703_p7_0', 'hex_1703_p7_0_p2_0', 'hex_1703_p7_0_p2_0_p7_-1', 'hex_1741_p3_0', 'hex_1741_p3_0_p2_0', 'hex_1741_p3_0_p2_0_p3_-1', 'hex_1785_p3_0', 'hex_1785_p3_0_p2_0', 'hex_1785_p3_0_p2_0_p3_-1', 'hex_1828_p3_0', 'hex_1828_p3_0_p2_0', 'hex_1828_p3_0_p2_0_p3_-1', 'hex_1879_p3_0', 'hex_1879_p3_0_p2_0', 'hex_1879_p3_0_p2_0_p3_-1', 'hex_1928_p3_0', 'hex_1928_p3_0_p2_0', 'hex_1928_p3_0_p2_0_p3_-1', 'hex_1940_p7_0', 'hex_1940_p7_0_p2_0', 'hex_1940_p7_0_p2_0_p7_-1', 'hex_1971_p0_0', 'hex_1971_p0_0_p3_0', 'hex_1971_p0_0_p3_0_p0_-1', 'hex_2170_p0_0', 'hex_2170_p0_0_p1_0', 'hex_2170_p0_0_p1_0_p0_-1', 'hex_2217_p0_0', 'hex_2217_p0_0_p1_0', 'hex_2217_p0_0_p1_0_p0_-1', 'hex_2217_p3_0', 'hex_2217_p3_0_p2_0', 'hex_2217_p3_0_p2_0_p3_-1', 'hex_2241_p0_0', 'hex_2241_p0_0_p1_0', 'hex_2241_p0_0_p1_0_p0_-1', 'hex_2292_p3_0', 'hex_2292_p3_0_p2_0', 'hex_2292_p3_0_p2_0_p3_-1', 'hex_2335_p3_0', 'hex_2335_p3_0_p2_0', 'hex_2335_p3_0_p2_0_p3_-1', 'hex_2344_p3_0', 'hex_2344_p3_0_p2_0', 'hex_2344_p3_0_p2_0_p3_-1', 'hex_24435_p3_0', 'hex_24435_p3_0_p2_0', 'hex_24435_p3_0_p2_0_p3_-1', 'hex_24437_p3_0', 'hex_24437_p3_0_p2_0', 'hex_24437_p3_0_p2_0_p3_-1', 'hex_2476_p3_0', 'hex_2476_p3_0_p2_0', 'hex_2476_p3_0_p2_0_p3_-1', 'hex_258_p7_0', 'hex_258_p7_0_p2_0', 'hex_258_p7_0_p2_0_p7_-1', 'hex_28_p5_0', 'hex_28_p5_0_p4_0', 'hex_28_p5_0_p4_0_p5_-1', 'hex_312_p5_0', 'hex_312_p5_0_p4_0', 'hex_312_p5_0_p4_0_p5_-1', 'hex_350_p5_0', 'hex_350_p5_0_p4_0', 'hex_350_p5_0_p4_0_p5_-1', 'hex_354_p7_0', 'hex_354_p7_0_p2_0', 'hex_354_p7_0_p2_0_p7_-1', 'hex_357_p3_0', 'hex_357_p3_0_p2_0', 'hex_357_p3_0_p2_0_p3_-1', 'hex_44306_p3_0', 'hex_44306_p3_0_p2_0', 'hex_44306_p3_0_p2_0_p3_-1', 'hex_44307_p3_0', 'hex_44307_p3_0_p2_0', 'hex_44307_p3_0_p2_0_p3_-1', 'hex_44323_p3_0', 'hex_44323_p3_0_p2_0', 'hex_44323_p3_0_p2_0_p3_-1', 'hex_44325_p3_0', 'hex_44325_p3_0_p2_0', 'hex_44325_p3_0_p2_0_p3_-1', 'hex_516_p0_0', 'hex_516_p0_0_p1_0', 'hex_516_p0_0_p1_0_p0_-1', 'hex_591_p7_0', 'hex_591_p7_0_p2_0', 'hex_591_p7_0_p2_0_p7_-1', 'hex_659_p6_0', 'hex_659_p6_0_p4_0', 'hex_659_p6_0_p4_0_p6_-1', 'hex_718_p0_0', 'hex_718_p0_0_p1_0', 'hex_718_p0_0_p1_0_p0_-1', 'hex_763_p0_0', 'hex_763_p0_0_p1_0', 'hex_763_p0_0_p1_0_p0_-1', 'hex_857_p7_0', 'hex_857_p7_0_p2_0', 'hex_857_p7_0_p2_0_p7_-1', 'hex_952_p0_0', 'hex_952_p0_0_p3_0', 'hex_952_p0_0_p3_0_p0_-1', 'hex_p0', 'hex_p1', 'hex_p2', 'hex_p3', 'hex_p4', 'hex_p5', 'hex_p6', 'hex_p7', 'pri_19_p6_0', 'pri_19_p6_0_p7_0', 'pri_19_p6_0_p7_0_p6_-1', 'pri_201_p6_0', 'pri_201_p6_0_p7_0', 'pri_201_p6_0_p7_0_p6_-1', 'pri_241_p5_0', 'pri_241_p5_0_p6_0', 'pri_241_p5_0_p6_0_p5_-1', 'pri_4827_p6_0', 'pri_4827_p6_0_p7_0', 'pri_4827_p6_0_p7_0_p6_-1', 'pri_668_p6_0', 'pri_668_p6_0_p7_0', 'pri_668_p6_0_p7_0_p6_-1', 'pri_687_p6_0', 'pri_687_p6_0_p7_0', 'pri_687_p6_0_p7_0_p6_-1', 'pri_716_p6_0', 'pri_716_p6_0_p7_0', 'pri_716_p6_0_p7_0_p6_-1', 'pri_p4', 'pri_p5', 'pri_p6', 'pri_p7']>"
      ]
     },
     "execution_count": 192,
     "metadata": {},
     "output_type": "execute_result"
    }
   ],
   "source": [
    "f = h5py.File('random2.zhenyang', 'r') \n",
    "#len(list(f.keys()))\n",
    "f.keys()"
   ]
  },
  {
   "cell_type": "code",
   "execution_count": 193,
   "id": "396eca95",
   "metadata": {},
   "outputs": [
    {
     "name": "stdout",
     "output_type": "stream",
     "text": [
      "[array([480, 463, 119, 745, 581, 415, 383], dtype=int32)]\n",
      "[array([179, 333, 205, 326, 220, 256,  24, 231,  13, 400,   8], dtype=int32)]\n",
      "[array([687, 416, 451, 722, 438, 734, 530,  46], dtype=int32)]\n"
     ]
    }
   ],
   "source": [
    "print(list(f['pri_687_p6_0_p7_0_p6_-1']))\n",
    "print(list(f['pri_687_p6_0_p7_0']))\n",
    "print(list(f['pri_687_p6_0']))"
   ]
  },
  {
   "cell_type": "code",
   "execution_count": 195,
   "id": "54dc71a6",
   "metadata": {},
   "outputs": [
    {
     "data": {
      "text/plain": [
       "Text(0, 0.5, 'z')"
      ]
     },
     "execution_count": 195,
     "metadata": {},
     "output_type": "execute_result"
    },
    {
     "data": {
      "image/png": "[encoded data removed]",
      "text/plain": [
       "<Figure size 432x288 with 1 Axes>"
      ]
     },
     "metadata": {
      "needs_background": "light"
     },
     "output_type": "display_data"
    },
    {
     "data": {
      "image/png": "[encoded data removed]",
      "text/plain": [
       "<Figure size 432x288 with 1 Axes>"
      ]
     },
     "metadata": {
      "needs_background": "light"
     },
     "output_type": "display_data"
    },
    {
     "data": {
      "image/png": "[encoded data removed]",
      "text/plain": [
       "<Figure size 432x288 with 1 Axes>"
      ]
     },
     "metadata": {
      "needs_background": "light"
     },
     "output_type": "display_data"
    }
   ],
   "source": [
    "import matplotlib.pyplot as plt\n",
    "a = 7\n",
    "b = 6\n",
    "#b = np.array([43672, 43692, 43700, 43653, 43654, 45076, 45089, 45088, 45087, 41706, 41703, 41704, 41707, 41660, 41669, 45183, 45224, 45220, 45218, 45211, 46664, 46667, 46611, 46610, 46615, 43668])\n",
    "#b = f['hex_p3_2476_0']\n",
    "#x = Mymesh[f'spt_hex_p{a}'][:,b,0]\n",
    "#y = Mymesh[f'spt_hex_p{a}'][:,b,1]\n",
    "#z = Mymesh[f'spt_hex_p{a}'][:,b,2]\n",
    "b1 = np.array([480, 463, 119, 745, 581, 415, 383])\n",
    "b2 = np.array([179, 333, 205, 326, 220, 256,  24, 231,  13, 400,   8])\n",
    "a1 = np.array([687, 416, 451, 722, 438, 734, 530,  46])\n",
    "\n",
    "etype = 'pri'\n",
    "\n",
    "x0 = Mymesh[f'spt_{etype}_p{b}'][:,b1,0]\n",
    "y0 = Mymesh[f'spt_{etype}_p{b}'][:,b1,1]\n",
    "z0 = Mymesh[f'spt_{etype}_p{b}'][:,b1,2]\n",
    "\n",
    "\n",
    "x1 = Mymesh[f'spt_{etype}_p{b}'][:,a1,0]\n",
    "y1 = Mymesh[f'spt_{etype}_p{b}'][:,a1,1]\n",
    "z1 = Mymesh[f'spt_{etype}_p{b}'][:,a1,2]\n",
    "\n",
    "\n",
    "x2 = Mymesh[f'spt_{etype}_p{a}'][:,b2,0]\n",
    "y2 = Mymesh[f'spt_{etype}_p{a}'][:,b2,1]\n",
    "z2 = Mymesh[f'spt_{etype}_p{a}'][:,b2,2]\n",
    "\n",
    "\n",
    "plt.figure()\n",
    "plt.scatter(x0,y0)\n",
    "plt.scatter(x1,y1)\n",
    "plt.scatter(x2,y2)\n",
    "\n",
    "plt.axis('equal')\n",
    "\n",
    "plt.xlabel('x')\n",
    "plt.ylabel('y')\n",
    "\n",
    "plt.figure()\n",
    "plt.scatter(y0,z0)\n",
    "plt.scatter(y1,z1)\n",
    "plt.scatter(y2,z2)\n",
    "\n",
    "plt.xlabel('y')\n",
    "plt.ylabel('z')\n",
    "\n",
    "plt.figure()\n",
    "plt.scatter(x0,z0)\n",
    "plt.scatter(x1,z1)\n",
    "plt.scatter(x2,z2)\n",
    "\n",
    "plt.xlabel('x')\n",
    "plt.ylabel('z')"
   ]
  },
  {
   "cell_type": "code",
   "execution_count": null,
   "id": "adb05c86",
   "metadata": {},
   "outputs": [],
   "source": []
  },
  {
   "cell_type": "code",
   "execution_count": null,
   "id": "567db014",
   "metadata": {},
   "outputs": [],
   "source": []
  },
  {
   "cell_type": "code",
   "execution_count": null,
   "id": "5d133d35",
   "metadata": {},
   "outputs": [],
   "source": []
  },
  {
   "cell_type": "code",
   "execution_count": 270,
   "id": "09336553",
   "metadata": {},
   "outputs": [
    {
     "data": {
      "text/plain": [
       "<KeysViewHDF5 ['hex_p0', 'hex_p0mesh', 'hex_p1', 'hex_p1mesh', 'hex_p2', 'hex_p2mesh', 'hex_p3', 'hex_p3mesh', 'hex_p4', 'hex_p4mesh', 'hex_p5', 'hex_p5mesh', 'hex_p6', 'hex_p6mesh', 'hex_p7', 'hex_p7mesh', 'others_hex', 'others_hexmesh', 'others_pri', 'others_primesh', 'pri_p4', 'pri_p4mesh', 'pri_p5', 'pri_p5mesh', 'pri_p6', 'pri_p6mesh', 'pri_p7', 'pri_p7mesh']>"
      ]
     },
     "execution_count": 270,
     "metadata": {},
     "output_type": "execute_result"
    }
   ],
   "source": [
    "f = h5py.File('final.zhenyang', 'r') \n",
    "#len(list(f.keys()))\n",
    "f.keys()"
   ]
  },
  {
   "cell_type": "code",
   "execution_count": 272,
   "id": "0ed777db",
   "metadata": {},
   "outputs": [
    {
     "name": "stdout",
     "output_type": "stream",
     "text": [
      "(45, 25, 3) (7, 15, 5)\n"
     ]
    }
   ],
   "source": [
    "a = f['others_hexmesh']\n",
    "b = f['others_pri']\n",
    "#a.swapaxes(0,-1).shape\n",
    "print(a.shape,b.shape)"
   ]
  },
  {
   "cell_type": "code",
   "execution_count": 271,
   "id": "63a94339",
   "metadata": {},
   "outputs": [
    {
     "data": {
      "text/plain": [
       "(15, 5, 342)"
      ]
     },
     "execution_count": 271,
     "metadata": {},
     "output_type": "execute_result"
    }
   ],
   "source": [
    "np.array(f['pri_p4']).shape"
   ]
  },
  {
   "cell_type": "code",
   "execution_count": 257,
   "id": "d9e1c7ab",
   "metadata": {},
   "outputs": [],
   "source": [
    "import matplotlib.pyplot as plt\n",
    "a = 3\n",
    "#b = np.array([43672, 43692, 43700, 43653, 43654, 45076, 45089, 45088, 45087, 41706, 41703, 41704, 41707, 41660, 41669, 45183, 45224, 45220, 45218, 45211, 46664, 46667, 46611, 46610, 46615, 43668])\n",
    "#b = f['hex_p3_2476_0']\n",
    "#x = Mymesh[f'spt_hex_p{a}'][:,b,0]\n",
    "#y = Mymesh[f'spt_hex_p{a}'][:,b,1]\n",
    "#z = Mymesh[f'spt_hex_p{a}'][:,b,2]\n",
    "\n",
    "x0 = np.array(f['hex_p0mesh'])[...,0]\n",
    "x1 = np.array(f['hex_p1mesh'])[...,0]\n",
    "x2 = np.array(f['hex_p2mesh'])[...,0]\n",
    "x3 = np.array(f['hex_p3mesh'])[...,0]\n",
    "x4 = np.array(f['hex_p4mesh'])[...,0]\n",
    "x5 = np.array(f['hex_p5mesh'])[...,0]\n",
    "x6 = np.array(f['hex_p6mesh'])[...,0]\n",
    "x7 = np.array(f['hex_p7mesh'])[...,0]\n",
    "\n",
    "y0 = np.array(f['hex_p0mesh'])[...,1]\n",
    "y1 = np.array(f['hex_p1mesh'])[...,1]\n",
    "y2 = np.array(f['hex_p2mesh'])[...,1]\n",
    "y3 = np.array(f['hex_p3mesh'])[...,1]\n",
    "y4 = np.array(f['hex_p4mesh'])[...,1]\n",
    "y5 = np.array(f['hex_p5mesh'])[...,1]\n",
    "y6 = np.array(f['hex_p6mesh'])[...,1]\n",
    "y7 = np.array(f['hex_p7mesh'])[...,1]\n",
    "\n",
    "z0 = np.array(f['hex_p0mesh'])[...,2]\n",
    "z1 = np.array(f['hex_p1mesh'])[...,2]\n",
    "z2 = np.array(f['hex_p2mesh'])[...,2]\n",
    "z3 = np.array(f['hex_p3mesh'])[...,2]\n",
    "z4 = np.array(f['hex_p4mesh'])[...,2]\n",
    "z5 = np.array(f['hex_p5mesh'])[...,2]\n",
    "z6 = np.array(f['hex_p6mesh'])[...,2]\n",
    "z7 = np.array(f['hex_p7mesh'])[...,2]\n",
    "\n",
    "x10 = np.array(f['pri_p4mesh'])[...,0]\n",
    "x11 = np.array(f['pri_p5mesh'])[...,0]\n",
    "x12 = np.array(f['pri_p6mesh'])[...,0]\n",
    "x13 = np.array(f['pri_p7mesh'])[...,0]\n",
    "\n",
    "y10 = np.array(f['pri_p4mesh'])[...,1]\n",
    "y11 = np.array(f['pri_p5mesh'])[...,1]\n",
    "y12 = np.array(f['pri_p6mesh'])[...,1]\n",
    "y13 = np.array(f['pri_p7mesh'])[...,1]\n",
    "\n",
    "z10 = np.array(f['pri_p4mesh'])[...,2]\n",
    "z11 = np.array(f['pri_p5mesh'])[...,2]\n",
    "z12 = np.array(f['pri_p6mesh'])[...,2]\n",
    "z13 = np.array(f['pri_p7mesh'])[...,2]\n",
    "\n",
    "x8 = np.array(f['others_hexmesh'])[...,0].swapaxes(0,1)#[:,0]\n",
    "y8 = np.array(f['others_hexmesh'])[...,1].swapaxes(0,1)#[:,0]\n",
    "z8 = np.array(f['others_hexmesh'])[...,2].swapaxes(0,1)#[:,0]\n",
    "\n",
    "x9 = np.array(f['others_primesh'])[...,0].swapaxes(0,1)#[:,0]\n",
    "y9 = np.array(f['others_primesh'])[...,1].swapaxes(0,1)#[:,0]\n",
    "z9 = np.array(f['others_primesh'])[...,2].swapaxes(0,1)#[:,0]"
   ]
  },
  {
   "cell_type": "code",
   "execution_count": 258,
   "id": "3c0b63b5",
   "metadata": {},
   "outputs": [
    {
     "data": {
      "text/plain": [
       "Text(0, 0.5, 'z')"
      ]
     },
     "execution_count": 258,
     "metadata": {},
     "output_type": "execute_result"
    },
    {
     "data": {
      "image/png": "[encoded data removed]",
      "text/plain": [
       "<Figure size 432x288 with 1 Axes>"
      ]
     },
     "metadata": {
      "needs_background": "light"
     },
     "output_type": "display_data"
    },
    {
     "data": {
      "image/png": "[encoded data removed]",
      "text/plain": [
       "<Figure size 432x288 with 1 Axes>"
      ]
     },
     "metadata": {
      "needs_background": "light"
     },
     "output_type": "display_data"
    },
    {
     "data": {
      "image/png": "[encoded data removed]",
      "text/plain": [
       "<Figure size 432x288 with 1 Axes>"
      ]
     },
     "metadata": {
      "needs_background": "light"
     },
     "output_type": "display_data"
    }
   ],
   "source": [
    "plt.figure()\n",
    "plt.scatter(x0,y0)\n",
    "plt.scatter(x1,y1)\n",
    "plt.scatter(x2,y2)\n",
    "plt.scatter(x3,y3)\n",
    "plt.scatter(x4,y4)\n",
    "plt.scatter(x5,y5)\n",
    "plt.scatter(x6,y6)\n",
    "plt.scatter(x7,y7)\n",
    "\n",
    "\n",
    "plt.scatter(x10,y10)\n",
    "plt.scatter(x11,y11)\n",
    "plt.scatter(x12,y12)\n",
    "plt.scatter(x13,y13)\n",
    "\n",
    "plt.scatter(x8,y8,color = 'k')\n",
    "plt.scatter(x9,y9)\n",
    "\n",
    "plt.axis('equal')\n",
    "#plt.xlim([0,1.5])\n",
    "\n",
    "plt.xlabel('x')\n",
    "plt.ylabel('y')\n",
    "\n",
    "plt.figure()\n",
    "plt.scatter(y0,z0)\n",
    "plt.scatter(y1,z1)\n",
    "plt.scatter(y2,z2)\n",
    "plt.scatter(y3,z3)\n",
    "plt.scatter(y4,z4)\n",
    "plt.scatter(y5,z5)\n",
    "plt.scatter(y6,z6)\n",
    "plt.scatter(y7,z7)\n",
    "\n",
    "plt.scatter(y10,z10)\n",
    "plt.scatter(y11,z11)\n",
    "plt.scatter(y12,z12)\n",
    "plt.scatter(y13,z13)\n",
    "\n",
    "plt.scatter(y8,z8)\n",
    "plt.scatter(y9,z9)\n",
    "\n",
    "plt.xlabel('y')\n",
    "plt.ylabel('z')\n",
    "\n",
    "plt.figure()\n",
    "plt.scatter(x0,z0)\n",
    "plt.scatter(x1,z1)\n",
    "plt.scatter(x2,z2)\n",
    "plt.scatter(x3,z3)\n",
    "plt.scatter(x4,z4)\n",
    "plt.scatter(x5,z5)\n",
    "plt.scatter(x6,z6)\n",
    "plt.scatter(x7,z7)\n",
    "\n",
    "plt.scatter(x10,z10)\n",
    "plt.scatter(x11,z11)\n",
    "plt.scatter(x12,z12)\n",
    "plt.scatter(x13,z13)\n",
    "\n",
    "plt.scatter(x8,z8)\n",
    "plt.scatter(x9,z9)\n",
    "plt.xlabel('x')\n",
    "plt.ylabel('z')"
   ]
  },
  {
   "cell_type": "code",
   "execution_count": 127,
   "id": "ab300911",
   "metadata": {},
   "outputs": [],
   "source": [
    "\n",
    "flag = True\n",
    "if flag == None:\n",
    "    print(flag)"
   ]
  },
  {
   "cell_type": "code",
   "execution_count": 131,
   "id": "19d1eec3",
   "metadata": {},
   "outputs": [
    {
     "name": "stdout",
     "output_type": "stream",
     "text": [
      "(0, 0, -1)\n",
      "(0, -1, 0)\n",
      "(1, 0, 0)\n",
      "(0, 1, 0)\n",
      "(-1, 0, 0)\n",
      "(0, 0, 1)\n",
      "-----------------\n",
      "(0, 0, -1)\n",
      "(0, 0, 1)\n",
      "(0, -1, 0)\n",
      "(1, 1, 0)\n",
      "(-1, 0, 0)\n"
     ]
    }
   ],
   "source": [
    "from pyfr.shapes import HexShape\n",
    "    \n",
    "for kind, proj, norm in HexShape.faces:\n",
    "    print(norm)\n",
    "    \n",
    "print('-----------------')\n",
    "from pyfr.shapes import PriShape\n",
    "    \n",
    "for kind, proj, norm in PriShape.faces:\n",
    "    print(norm)"
   ]
  },
  {
   "cell_type": "code",
   "execution_count": 137,
   "id": "5f45f540",
   "metadata": {},
   "outputs": [
    {
     "name": "stdout",
     "output_type": "stream",
     "text": [
      "[array([591, 284, 223,  24, 816], dtype=int32)]\n",
      "[array([2073,  571, 1683,  725, 2027,  632,  507, 1411, 1490, 1448, 1890,\n",
      "       1799, 1844,  835], dtype=int32)]\n"
     ]
    }
   ],
   "source": [
    "print(list(f['hex_591_p7_0']))\n",
    "print(list(f['hex_591_p7_0_p2_0']))"
   ]
  },
  {
   "cell_type": "code",
   "execution_count": 190,
   "id": "e8bcb5bf",
   "metadata": {},
   "outputs": [
    {
     "name": "stdout",
     "output_type": "stream",
     "text": [
      "106\n",
      "('hex', 2073, 0, 0)\n",
      "[ 106  107 1391]\n",
      "[('hex', 2073, 0, 0) ('hex', 2073, 2, 0) ('hex', 2073, 1, 0)]\n"
     ]
    }
   ],
   "source": [
    "name = ['naca0012.ini','../../Re5e4/mesh.pyfrm','./../pyfrs/naca0012_60.0000.pyfrs']\n",
    "Mymesh = load_class(name).load_mesh()\n",
    "\n",
    "eid = 816\n",
    "conl = 7\n",
    "conr = 2\n",
    "lcon = f'con_p{conl}p{conr}'\n",
    "rcon = f'con_p{conr}p{conl}'\n",
    "#print(lcon)\n",
    "\n",
    "eidl = Mymesh[lcon][['f1']].astype('i4')\n",
    "fidl = Mymesh[lcon][['f2']].astype('i4')\n",
    "etypel = Mymesh[lcon][['f0']].astype('U4')\n",
    "\n",
    "b = Mymesh[rcon].astype('U4,i4,i4,i4')\n",
    "\n",
    "eidr = Mymesh[rcon][['f1']].astype('i4')\n",
    "fidr = Mymesh[rcon][['f2']].astype('i4')\n",
    "etyper = Mymesh[rcon][['f0']].astype('U4')\n",
    "\n",
    "index = np.where(eid == eidl)\n",
    "for i in index[0]:\n",
    "    if 0 == fidr[i] :\n",
    "        print(i)\n",
    "        break\n",
    "\n",
    "print(b[i])\n",
    "\n",
    "index2 = np.where(eidr[i] == eidr)[0]\n",
    "print(index2)\n",
    "print(b[index2])"
   ]
  },
  {
   "cell_type": "code",
   "execution_count": 185,
   "id": "58322e0a",
   "metadata": {},
   "outputs": [
    {
     "data": {
      "text/plain": [
       "Text(0, 0.5, 'z')"
      ]
     },
     "execution_count": 185,
     "metadata": {},
     "output_type": "execute_result"
    },
    {
     "data": {
      "image/png": "[encoded data removed]",
      "text/plain": [
       "<Figure size 432x288 with 1 Axes>"
      ]
     },
     "metadata": {
      "needs_background": "light"
     },
     "output_type": "display_data"
    },
    {
     "data": {
      "image/png": "[encoded data removed]",
      "text/plain": [
       "<Figure size 432x288 with 1 Axes>"
      ]
     },
     "metadata": {
      "needs_background": "light"
     },
     "output_type": "display_data"
    },
    {
     "data": {
      "image/png": "[encoded data removed]",
      "text/plain": [
       "<Figure size 432x288 with 1 Axes>"
      ]
     },
     "metadata": {
      "needs_background": "light"
     },
     "output_type": "display_data"
    }
   ],
   "source": [
    "plt.figure()\n",
    "plt.plot(Mymesh['spt_hex_p7'][:,1737,0],Mymesh['spt_hex_p7'][:,1737,1],'.')\n",
    "plt.plot(Mymesh['spt_hex_p2'][:,835,0],Mymesh['spt_hex_p2'][:,835,1],'.')\n",
    "plt.xlabel('x')\n",
    "plt.ylabel('y')\n",
    "\n",
    "plt.figure()\n",
    "plt.plot(Mymesh['spt_hex_p7'][:,1737,0],Mymesh['spt_hex_p7'][:,1737,2],'.')\n",
    "plt.plot(Mymesh['spt_hex_p2'][:,835,0],Mymesh['spt_hex_p2'][:,835,2],'.')\n",
    "plt.xlabel('x')\n",
    "plt.ylabel('z')\n",
    "\n",
    "plt.figure()\n",
    "plt.plot(Mymesh['spt_hex_p7'][:,1737,1],Mymesh['spt_hex_p7'][:,1737,2],'.')\n",
    "plt.plot(Mymesh['spt_hex_p2'][:,835,1],Mymesh['spt_hex_p2'][:,835,2],'.')\n",
    "plt.xlabel('y')\n",
    "plt.ylabel('z')"
   ]
  },
  {
   "cell_type": "code",
   "execution_count": 179,
   "id": "8bf30570",
   "metadata": {},
   "outputs": [
    {
     "data": {
      "text/plain": [
       "['bcon_freestream_p1',\n",
       " 'bcon_inlet_p1',\n",
       " 'bcon_outlet_p1',\n",
       " 'bcon_wall_p4',\n",
       " 'bcon_wall_p5',\n",
       " 'con_p0',\n",
       " 'con_p0p1',\n",
       " 'con_p0p3',\n",
       " 'con_p1',\n",
       " 'con_p1p0',\n",
       " 'con_p1p3',\n",
       " 'con_p1p5',\n",
       " 'con_p1p6',\n",
       " 'con_p2',\n",
       " 'con_p2p3',\n",
       " 'con_p2p7',\n",
       " 'con_p3',\n",
       " 'con_p3p0',\n",
       " 'con_p3p1',\n",
       " 'con_p3p2',\n",
       " 'con_p3p6',\n",
       " 'con_p3p7',\n",
       " 'con_p4',\n",
       " 'con_p4p5',\n",
       " 'con_p4p6',\n",
       " 'con_p5',\n",
       " 'con_p5p1',\n",
       " 'con_p5p4',\n",
       " 'con_p5p6',\n",
       " 'con_p6',\n",
       " 'con_p6p1',\n",
       " 'con_p6p3',\n",
       " 'con_p6p4',\n",
       " 'con_p6p5',\n",
       " 'con_p6p7',\n",
       " 'con_p7',\n",
       " 'con_p7p2',\n",
       " 'con_p7p3',\n",
       " 'con_p7p6',\n",
       " 'mesh_uuid',\n",
       " 'spt_hex_p0',\n",
       " 'spt_hex_p1',\n",
       " 'spt_hex_p2',\n",
       " 'spt_hex_p3',\n",
       " 'spt_hex_p4',\n",
       " 'spt_hex_p5',\n",
       " 'spt_hex_p6',\n",
       " 'spt_hex_p7',\n",
       " 'spt_pri_p4',\n",
       " 'spt_pri_p5',\n",
       " 'spt_pri_p6',\n",
       " 'spt_pri_p7',\n",
       " 'spt_pyr_p0',\n",
       " 'spt_pyr_p1',\n",
       " 'spt_pyr_p2',\n",
       " 'spt_pyr_p3',\n",
       " 'spt_pyr_p4',\n",
       " 'spt_pyr_p5',\n",
       " 'spt_pyr_p6',\n",
       " 'spt_pyr_p7',\n",
       " 'spt_tet_p0',\n",
       " 'spt_tet_p1',\n",
       " 'spt_tet_p2',\n",
       " 'spt_tet_p3',\n",
       " 'spt_tet_p4',\n",
       " 'spt_tet_p5',\n",
       " 'spt_tet_p6',\n",
       " 'spt_tet_p7']"
      ]
     },
     "execution_count": 179,
     "metadata": {},
     "output_type": "execute_result"
    }
   ],
   "source": [
    "list(Mymesh.keys())"
   ]
  },
  {
   "cell_type": "code",
   "execution_count": null,
   "id": "ade19fd0",
   "metadata": {},
   "outputs": [],
   "source": [
    "name = ['naca0012.ini','../../Re5e4/mesh.pyfrm','./../pyfrs/naca0012_60.0000.pyfrs']\n",
    "Mymesh = load_class(name).load_mesh()"
   ]
  },
  {
   "cell_type": "code",
   "execution_count": 259,
   "id": "d4f77fd8",
   "metadata": {},
   "outputs": [
    {
     "data": {
      "text/plain": [
       "['bcon_freestream_p1',\n",
       " 'bcon_inlet_p1',\n",
       " 'bcon_outlet_p1',\n",
       " 'bcon_wall_p4',\n",
       " 'bcon_wall_p5',\n",
       " 'con_p0',\n",
       " 'con_p0p1',\n",
       " 'con_p0p3',\n",
       " 'con_p1',\n",
       " 'con_p1p0',\n",
       " 'con_p1p3',\n",
       " 'con_p1p5',\n",
       " 'con_p1p6',\n",
       " 'con_p2',\n",
       " 'con_p2p3',\n",
       " 'con_p2p7',\n",
       " 'con_p3',\n",
       " 'con_p3p0',\n",
       " 'con_p3p1',\n",
       " 'con_p3p2',\n",
       " 'con_p3p6',\n",
       " 'con_p3p7',\n",
       " 'con_p4',\n",
       " 'con_p4p5',\n",
       " 'con_p4p6',\n",
       " 'con_p5',\n",
       " 'con_p5p1',\n",
       " 'con_p5p4',\n",
       " 'con_p5p6',\n",
       " 'con_p6',\n",
       " 'con_p6p1',\n",
       " 'con_p6p3',\n",
       " 'con_p6p4',\n",
       " 'con_p6p5',\n",
       " 'con_p6p7',\n",
       " 'con_p7',\n",
       " 'con_p7p2',\n",
       " 'con_p7p3',\n",
       " 'con_p7p6',\n",
       " 'mesh_uuid',\n",
       " 'spt_hex_p0',\n",
       " 'spt_hex_p1',\n",
       " 'spt_hex_p2',\n",
       " 'spt_hex_p3',\n",
       " 'spt_hex_p4',\n",
       " 'spt_hex_p5',\n",
       " 'spt_hex_p6',\n",
       " 'spt_hex_p7',\n",
       " 'spt_pri_p4',\n",
       " 'spt_pri_p5',\n",
       " 'spt_pri_p6',\n",
       " 'spt_pri_p7',\n",
       " 'spt_pyr_p0',\n",
       " 'spt_pyr_p1',\n",
       " 'spt_pyr_p2',\n",
       " 'spt_pyr_p3',\n",
       " 'spt_pyr_p4',\n",
       " 'spt_pyr_p5',\n",
       " 'spt_pyr_p6',\n",
       " 'spt_pyr_p7',\n",
       " 'spt_tet_p0',\n",
       " 'spt_tet_p1',\n",
       " 'spt_tet_p2',\n",
       " 'spt_tet_p3',\n",
       " 'spt_tet_p4',\n",
       " 'spt_tet_p5',\n",
       " 'spt_tet_p6',\n",
       " 'spt_tet_p7']"
      ]
     },
     "execution_count": 259,
     "metadata": {},
     "output_type": "execute_result"
    }
   ],
   "source": [
    "fmsh = h5py.File('../../Re5e4/mesh.pyfrm','r')\n",
    "list(fmsh.keys())"
   ]
  },
  {
   "cell_type": "code",
   "execution_count": null,
   "id": "26d7345d",
   "metadata": {},
   "outputs": [],
   "source": [
    "void save_vtk(double *Q, double *x, double *y, int m, int n) {\n",
    "\n",
    "  int i, j;\n",
    "  FILE *fp = fopen(\"result.vtk\", \"w\");\n",
    "\n",
    "  /* Write vtk Datafile header */\n",
    "  fprintf(fp, \"# vtk DataFile Version 2.0\\n\");\n",
    "  fprintf(fp, \"VTK\\nASCII\\nDATASET POLYDATA\\n\");\n",
    "\n",
    "  /* Store water height as polydata */\n",
    "  fprintf(fp, \"\\nPOINTS %d double\\n\", m*n);\n",
    "\n",
    "  for (j = 0; j < n; j++)\n",
    "    for (i = 0; i < m; i++)\n",
    "      fprintf(fp, \"%e %e %e\\n\", x[i], y[j], Q(0, i, j));\n",
    "\n",
    "  fprintf(fp,\"\\nVERTICES %d %d\\n\", n, n *(m+1));\n",
    "  for (j = 0; j < n; j++)  {\n",
    "    fprintf(fp, \"%d \", m);\n",
    "    for (i = 0; i < m; i++)\n",
    "      fprintf(fp, \"%d \", i+j*m);\n",
    "    fprintf(fp,\"\\n\");\n",
    "  }\n",
    "\n",
    "  /* Store lookup table */\n",
    "  fprintf(fp,\n",
    "          \"POINT_DATA %d\\nSCALARS height double 1\\nLOOKUP_TABLE default\\n\",m*n);\n",
    "  for (j = 0; j < n; j++)\n",
    "    for (i = 0; i < m; i++)\n",
    "      fprintf(fp, \"%e\\n\", Q(0, i, j));\n",
    "  fclose(fp);\n",
    "}\n"
   ]
  },
  {
   "cell_type": "code",
   "execution_count": 299,
   "id": "9edcc4cf",
   "metadata": {},
   "outputs": [
    {
     "name": "stdout",
     "output_type": "stream",
     "text": [
      "(25, 2432, 5)\n",
      "(25, 2241, 5)\n",
      "(25, 2396, 5)\n",
      "(25, 2395, 5)\n",
      "(25, 2507, 5)\n",
      "(25, 1996, 5)\n",
      "(25, 1675, 5)\n",
      "(25, 2330, 5)\n",
      "(25, 45, 5)\n",
      "(15, 7, 5)\n",
      "(15, 342, 5)\n",
      "(15, 883, 5)\n",
      "(15, 1595, 5)\n",
      "(15, 153, 5)\n"
     ]
    },
    {
     "data": {
      "text/plain": [
       "545922"
      ]
     },
     "execution_count": 299,
     "metadata": {},
     "output_type": "execute_result"
    }
   ],
   "source": [
    "from collections import defaultdict\n",
    "import numpy as np\n",
    "import h5py\n",
    "\n",
    "mesh = defaultdict()\n",
    "soln = defaultdict()\n",
    "\n",
    "f = h5py.File('final.zhenyang', 'r') \n",
    "for key in f.keys():\n",
    "    if key.split('_')[0] == 'others':\n",
    "        if len(key.split('_')[-1]) > 3:\n",
    "            mesh[key] = np.array(f[key]).swapaxes(0,1)\n",
    "        else:\n",
    "            soln[key] = np.array(f[key]).swapaxes(1,0)\n",
    "    elif len(key.split('_')[-1]) > 2:\n",
    "        mesh[key] = np.array(f[key])\n",
    "    else:\n",
    "        soln[key] = np.array(f[key]).swapaxes(1,2)\n",
    "f.close()\n",
    "\n",
    "a = 0\n",
    "for key in soln.keys():\n",
    "    print(soln[key].shape)\n",
    "    a += soln[key].shape[1]\n",
    "a*26"
   ]
  },
  {
   "cell_type": "code",
   "execution_count": 296,
   "id": "782db9f0",
   "metadata": {},
   "outputs": [],
   "source": [
    "f = open('result.csv','w')\n",
    "#f.write('# vtk DataFile Version 2.0\\n')\n",
    "#f.wrtie('VTK\\nASCII\\nDATASET POLYDATA\\n')\n",
    "#f.write('\\nPOINTS '+str(495200)+' double\\n')\n",
    "f.write('x coord, y coord, rho, u, v, w, p\\n')\n",
    "\n",
    "for key in soln.keys():\n",
    "    keymesh = f'{key}mesh'\n",
    "    for j in range(mesh[keymesh].shape[1]):\n",
    "        for i in range(mesh[keymesh].shape[0]):\n",
    "            f.write(str(mesh[keymesh][i,j,0])+', '+str(mesh[keymesh][i,j,1])+', '+str(soln[key][i,j,0])+', '+str(soln[key][i,j,1])+', '+str(soln[key][i,j,2])+', '+str(soln[key][i,j,3])+', '+str(soln[key][i,j,4])+'\\n')\n",
    "            \n",
    "f.close()"
   ]
  },
  {
   "cell_type": "code",
   "execution_count": null,
   "id": "29325869",
   "metadata": {},
   "outputs": [],
   "source": []
  }
 ],
 "metadata": {
  "kernelspec": {
   "display_name": "Python 3 (ipykernel)",
   "language": "python",
   "name": "python3"
  },
  "language_info": {
   "codemirror_mode": {
    "name": "ipython",
    "version": 3
   },
   "file_extension": ".py",
   "mimetype": "text/x-python",
   "name": "python",
   "nbconvert_exporter": "python",
   "pygments_lexer": "ipython3",
   "version": "3.8.8"
  }
 },
 "nbformat": 4,
 "nbformat_minor": 5
}
