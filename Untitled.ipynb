{
 "cells": [
  {
   "cell_type": "code",
   "execution_count": 1,
   "id": "de6c5a32",
   "metadata": {},
   "outputs": [],
   "source": [
    "from pyfr.shapes import BaseShape\n",
    "from pyfr.util import lazyprop, subclass_where\n",
    "from pyfr.inifile import Inifile\n",
    "from pyfr.readers.native import NativeReader\n",
    "from collections import defaultdict\n",
    "import numpy as np\n",
    "from tqdm import tqdm\n",
    "\n",
    "\n",
    "class load_class(object):\n",
    "    def __init__(self,names):\n",
    "        self.cfgname = names[0]\n",
    "        self.meshname = names[1]\n",
    "        self.solnname = names[2]\n",
    "\n",
    "        \n",
    "        \n",
    "    def load_ini(self):\n",
    "        from argparse import ArgumentParser, FileType\n",
    "\n",
    "        ap = ArgumentParser(description='Read interpolation argument.')\n",
    "        ap.add_argument('--data_dir', type=str, default='./channel_Retau180.ini',\n",
    "                           help='data directory containing input.txt')\n",
    "        ap.add_argument('cfg', type=FileType('r'), help='config file')\n",
    "\n",
    "        args = ap.parse_args([self.cfgname])\n",
    "        confg = Inifile.load(args.cfg)\n",
    "\n",
    "        return confg\n",
    "\n",
    "    def load_soln(self):\n",
    "        from argparse import ArgumentParser, FileType\n",
    "\n",
    "        ap = ArgumentParser(description='Read interpolation argument.')\n",
    "        ap.add_argument('--data_dir', type=str, default='./100.pyfrs',\n",
    "                           help='data directory containing input.txt')\n",
    "        ap.add_argument('solnf', type=FileType('r'), help='solution file')\n",
    "\n",
    "        args = ap.parse_args([self.solnname])\n",
    "        #print(args)\n",
    "        soln = NativeReader(args.solnf.name)\n",
    "\n",
    "        return soln\n",
    "\n",
    "    def load_mesh(self):\n",
    "        from argparse import ArgumentParser, FileType\n",
    "\n",
    "        ap = ArgumentParser(description='Read interpolation argument.')\n",
    "        ap.add_argument('--data_dir', type=str, default='./100.pyfrs',\n",
    "                           help='data directory containing input.txt')\n",
    "        ap.add_argument('meshf', type=FileType('r'), help='solution file')\n",
    "\n",
    "        args = ap.parse_args([self.meshname])\n",
    "        #print(args)\n",
    "        mesh = NativeReader(args.meshf.name)\n",
    "\n",
    "        return mesh\n",
    "    \n",
    "    def return_fun(self):\n",
    "        return self.confg,self.soln,self.mesh\n",
    "\n"
   ]
  },
  {
   "cell_type": "code",
   "execution_count": null,
   "id": "08e0e735",
   "metadata": {},
   "outputs": [],
   "source": []
  },
  {
   "cell_type": "code",
   "execution_count": 2,
   "id": "802dc99d",
   "metadata": {},
   "outputs": [
    {
     "data": {
      "text/plain": [
       "array([[6.67287404, 0.31116102, 0.32307692],\n",
       "       [6.67289147, 0.23321207, 0.04615385],\n",
       "       [4.51905171, 0.10843911, 0.15384615],\n",
       "       ...,\n",
       "       [6.05213573, 0.38652808, 0.16923077],\n",
       "       [5.95528889, 0.36369365, 0.16923077],\n",
       "       [5.95528889, 0.36369365, 0.18461538]])"
      ]
     },
     "execution_count": 2,
     "metadata": {},
     "output_type": "execute_result"
    }
   ],
   "source": [
    "name = ['naca0012.ini','../../Re5e4/mesh.pyfrm','./../pyfrs/naca0012_60.0000.pyfrs']\n",
    "Mymesh = load_class(name).load_mesh()\n",
    "Mymesh['spt_hex_p0'][0,:]"
   ]
  },
  {
   "cell_type": "code",
   "execution_count": null,
   "id": "77a53757",
   "metadata": {},
   "outputs": [],
   "source": []
  },
  {
   "cell_type": "code",
   "execution_count": null,
   "id": "576e5383",
   "metadata": {},
   "outputs": [],
   "source": []
  },
  {
   "cell_type": "code",
   "execution_count": 4,
   "id": "53e68707",
   "metadata": {},
   "outputs": [],
   "source": [
    "import h5py"
   ]
  },
  {
   "cell_type": "code",
   "execution_count": 115,
   "id": "8107ecf8",
   "metadata": {},
   "outputs": [
    {
     "data": {
      "text/plain": [
       "<KeysViewHDF5 ['hex_1005_p5_0', 'hex_1005_p5_0_p4_0', 'hex_1005_p5_0_p4_0_p5_-1', 'hex_1078_p7_0', 'hex_1078_p7_0_p2_0', 'hex_1078_p7_0_p2_0_p7_-1', 'hex_1151_p0_0', 'hex_1151_p0_0_p1_0', 'hex_1151_p0_0_p1_0_p0_-1', 'hex_131_p7_0', 'hex_131_p7_0_p2_0', 'hex_1328_p7_0', 'hex_1328_p7_0_p2_0', 'hex_1328_p7_0_p2_0_p7_-1', 'hex_1349_p5_0', 'hex_1349_p5_0_p4_0', 'hex_1349_p5_0_p4_0_p5_-1', 'hex_1359_p7_0', 'hex_1359_p7_0_p2_0', 'hex_1427_p7_0', 'hex_1427_p7_0_p2_0', 'hex_1469_p3_0', 'hex_1469_p3_0_p2_0', 'hex_1469_p3_0_p2_0_p3_-1', 'hex_169_p5_0', 'hex_169_p5_0_p4_0', 'hex_169_p5_0_p4_0_p5_-1', 'hex_1703_p7_0', 'hex_1703_p7_0_p2_0', 'hex_1703_p7_0_p2_0_p7_-1', 'hex_1741_p3_0', 'hex_1741_p3_0_p2_0', 'hex_1741_p3_0_p2_0_p3_-1', 'hex_1785_p3_0', 'hex_1785_p3_0_p2_0', 'hex_1785_p3_0_p2_0_p3_-1', 'hex_1828_p3_0', 'hex_1828_p3_0_p2_0', 'hex_1828_p3_0_p2_0_p3_-1', 'hex_1879_p3_0', 'hex_1879_p3_0_p2_0', 'hex_1879_p3_0_p2_0_p3_-1', 'hex_1928_p3_0', 'hex_1928_p3_0_p2_0', 'hex_1928_p3_0_p2_0_p3_-1', 'hex_1940_p7_0', 'hex_1940_p7_0_p2_0', 'hex_1940_p7_0_p2_0_p7_-1', 'hex_1971_p0_0', 'hex_1971_p0_0_p3_0', 'hex_1971_p0_0_p3_0_p0_-1', 'hex_2170_p0_0', 'hex_2170_p0_0_p1_0', 'hex_2170_p0_0_p1_0_p0_-1', 'hex_2217_p0_0', 'hex_2217_p0_0_p1_0', 'hex_2217_p0_0_p1_0_p0_-1', 'hex_2217_p3_0', 'hex_2241_p0_0', 'hex_2241_p0_0_p1_0', 'hex_2241_p0_0_p1_0_p0_-1', 'hex_2292_p3_0', 'hex_2292_p3_0_p2_0', 'hex_2292_p3_0_p2_0_p3_-1', 'hex_2335_p3_0', 'hex_2335_p3_0_p2_0', 'hex_2335_p3_0_p2_0_p3_-1', 'hex_2344_p3_0', 'hex_2344_p3_0_p2_0', 'hex_2344_p3_0_p2_0_p3_-1', 'hex_24435_p3_0', 'hex_24435_p3_0_p2_0', 'hex_24435_p3_0_p2_0_p3_-1', 'hex_24437_p3_0', 'hex_24437_p3_0_p2_0', 'hex_24437_p3_0_p2_0_p3_-1', 'hex_2476_p3_0', 'hex_2476_p3_0_p2_0', 'hex_2476_p3_0_p2_0_p3_-1', 'hex_258_p7_0', 'hex_258_p7_0_p2_0', 'hex_28_p5_0', 'hex_28_p5_0_p4_0', 'hex_28_p5_0_p4_0_p5_-1', 'hex_312_p5_0', 'hex_312_p5_0_p4_0', 'hex_312_p5_0_p4_0_p5_-1', 'hex_350_p5_0', 'hex_350_p5_0_p4_0', 'hex_350_p5_0_p4_0_p5_-1', 'hex_354_p7_0', 'hex_354_p7_0_p2_0', 'hex_354_p7_0_p2_0_p7_-1', 'hex_357_p3_0', 'hex_357_p3_0_p2_0', 'hex_357_p3_0_p2_0_p3_-1', 'hex_44306_p3_0', 'hex_44306_p3_0_p2_0', 'hex_44306_p3_0_p2_0_p3_-1', 'hex_44307_p3_0', 'hex_44307_p3_0_p2_0', 'hex_44307_p3_0_p2_0_p3_-1', 'hex_44323_p3_0', 'hex_44325_p3_0', 'hex_44325_p3_0_p2_0', 'hex_44325_p3_0_p2_0_p3_-1', 'hex_516_p0_0', 'hex_516_p0_0_p1_0', 'hex_516_p0_0_p1_0_p0_-1', 'hex_591_p7_0', 'hex_591_p7_0_p2_0', 'hex_659_p6_0', 'hex_659_p6_0_p4_0', 'hex_718_p0_0', 'hex_718_p0_0_p1_0', 'hex_718_p0_0_p1_0_p0_-1', 'hex_763_p0_0', 'hex_763_p0_0_p1_0', 'hex_763_p0_0_p1_0_p0_-1', 'hex_857_p7_0', 'hex_857_p7_0_p2_0', 'hex_857_p7_0_p2_0_p7_-1', 'hex_952_p0_0', 'hex_952_p0_0_p3_0', 'hex_952_p0_0_p3_0_p0_-1', 'hex_p0', 'hex_p1', 'hex_p2', 'hex_p3', 'hex_p4', 'hex_p5', 'hex_p6', 'hex_p7', 'pri_19_p6_0', 'pri_201_p6_0', 'pri_241_p5_0', 'pri_241_p5_0_p6_0', 'pri_4827_p6_0', 'pri_668_p6_0', 'pri_687_p6_0', 'pri_716_p6_0', 'pri_p4', 'pri_p5', 'pri_p6', 'pri_p7']>"
      ]
     },
     "execution_count": 115,
     "metadata": {},
     "output_type": "execute_result"
    }
   ],
   "source": [
    "f = h5py.File('random2.zhenyang', 'r') \n",
    "#len(list(f.keys()))\n",
    "f.keys()"
   ]
  },
  {
   "cell_type": "code",
   "execution_count": 121,
   "id": "396eca95",
   "metadata": {},
   "outputs": [
    {
     "name": "stdout",
     "output_type": "stream",
     "text": [
      "[array([1947, 1333, 1090, 2325, 1450,  286,   68,  152, 1484,  111, 1389,\n",
      "       1898,   88], dtype=int32)]\n",
      "[array([ 659, 1213, 1257,  558, 1980], dtype=int32)]\n",
      "[array([1469, 2101, 1017, 2397, 2249,  762,  424,  468], dtype=int32)]\n"
     ]
    }
   ],
   "source": [
    "print(list(f['hex_659_p6_0_p4_0']))\n",
    "print(list(f['hex_659_p6_0']))\n",
    "print(list(f['hex_1469_p3_0']))"
   ]
  },
  {
   "cell_type": "code",
   "execution_count": 122,
   "id": "54dc71a6",
   "metadata": {},
   "outputs": [
    {
     "data": {
      "text/plain": [
       "Text(0, 0.5, 'z')"
      ]
     },
     "execution_count": 122,
     "metadata": {},
     "output_type": "execute_result"
    },
    {
     "data": {
      "image/png": "[encoded data removed]",
      "text/plain": [
       "<Figure size 432x288 with 1 Axes>"
      ]
     },
     "metadata": {
      "needs_background": "light"
     },
     "output_type": "display_data"
    },
    {
     "data": {
      "image/png": "[encoded data removed]",
      "text/plain": [
       "<Figure size 432x288 with 1 Axes>"
      ]
     },
     "metadata": {
      "needs_background": "light"
     },
     "output_type": "display_data"
    },
    {
     "data": {
      "image/png": "[encoded data removed]",
      "text/plain": [
       "<Figure size 432x288 with 1 Axes>"
      ]
     },
     "metadata": {
      "needs_background": "light"
     },
     "output_type": "display_data"
    }
   ],
   "source": [
    "import matplotlib.pyplot as plt\n",
    "a = 6\n",
    "b = 4\n",
    "#b = np.array([43672, 43692, 43700, 43653, 43654, 45076, 45089, 45088, 45087, 41706, 41703, 41704, 41707, 41660, 41669, 45183, 45224, 45220, 45218, 45211, 46664, 46667, 46611, 46610, 46615, 43668])\n",
    "#b = f['hex_p3_2476_0']\n",
    "#x = Mymesh[f'spt_hex_p{a}'][:,b,0]\n",
    "#y = Mymesh[f'spt_hex_p{a}'][:,b,1]\n",
    "#z = Mymesh[f'spt_hex_p{a}'][:,b,2]\n",
    "b1 = np.array([1947, 1333, 1090, 2325, 1450,  286,   68,  152, 1484,  111, 1389,\n",
    "       1898,   88])\n",
    "b2 = np.array([ 659, 1213, 1257,  558, 1980])\n",
    "a1 = np.array([ 1469, 2101, 1017, 2397, 2249,  762,  424,  468])\n",
    "\n",
    "\n",
    "x0 = Mymesh[f'spt_hex_p{b}'][:,b1,0]\n",
    "y0 = Mymesh[f'spt_hex_p{b}'][:,b1,1]\n",
    "z0 = Mymesh[f'spt_hex_p{b}'][:,b1,2]\n",
    "\n",
    "\n",
    "x1 = Mymesh[f'spt_hex_p{b}'][:,a1,0]\n",
    "y1 = Mymesh[f'spt_hex_p{b}'][:,a1,1]\n",
    "z1 = Mymesh[f'spt_hex_p{b}'][:,a1,2]\n",
    "\n",
    "\n",
    "x2 = Mymesh[f'spt_hex_p{a}'][:,b2,0]\n",
    "y2 = Mymesh[f'spt_hex_p{a}'][:,b2,1]\n",
    "z2 = Mymesh[f'spt_hex_p{a}'][:,b2,2]\n",
    "\n",
    "\n",
    "plt.figure()\n",
    "plt.scatter(x0,y0)\n",
    "plt.scatter(x1,y1)\n",
    "plt.scatter(x2,y2)\n",
    "\n",
    "plt.axis('equal')\n",
    "\n",
    "plt.xlabel('x')\n",
    "plt.ylabel('y')\n",
    "\n",
    "plt.figure()\n",
    "plt.scatter(y0,z0)\n",
    "plt.scatter(y1,z1)\n",
    "plt.scatter(y2,z2)\n",
    "\n",
    "plt.xlabel('y')\n",
    "plt.ylabel('z')\n",
    "\n",
    "plt.figure()\n",
    "plt.scatter(x0,z0)\n",
    "plt.scatter(x1,z1)\n",
    "plt.scatter(x2,z2)\n",
    "\n",
    "plt.xlabel('x')\n",
    "plt.ylabel('z')"
   ]
  },
  {
   "cell_type": "code",
   "execution_count": null,
   "id": "adb05c86",
   "metadata": {},
   "outputs": [],
   "source": []
  },
  {
   "cell_type": "code",
   "execution_count": null,
   "id": "567db014",
   "metadata": {},
   "outputs": [],
   "source": []
  },
  {
   "cell_type": "code",
   "execution_count": null,
   "id": "5d133d35",
   "metadata": {},
   "outputs": [],
   "source": []
  },
  {
   "cell_type": "code",
   "execution_count": 105,
   "id": "09336553",
   "metadata": {},
   "outputs": [
    {
     "data": {
      "text/plain": [
       "<KeysViewHDF5 ['hex_p0', 'hex_p0mesh', 'hex_p1', 'hex_p1mesh', 'hex_p2', 'hex_p2mesh', 'hex_p3', 'hex_p3mesh', 'hex_p4', 'hex_p4mesh', 'hex_p5', 'hex_p5mesh', 'hex_p6', 'hex_p6mesh', 'hex_p7', 'hex_p7mesh', 'others', 'othersmesh', 'pri_p4', 'pri_p4mesh', 'pri_p5', 'pri_p5mesh', 'pri_p6', 'pri_p6mesh', 'pri_p7', 'pri_p7mesh']>"
      ]
     },
     "execution_count": 105,
     "metadata": {},
     "output_type": "execute_result"
    }
   ],
   "source": [
    "f = h5py.File('random1.zhenyang', 'r') \n",
    "#len(list(f.keys()))\n",
    "f.keys()"
   ]
  },
  {
   "cell_type": "code",
   "execution_count": 106,
   "id": "0ed777db",
   "metadata": {},
   "outputs": [
    {
     "data": {
      "text/plain": [
       "(51, 25, 3)"
      ]
     },
     "execution_count": 106,
     "metadata": {},
     "output_type": "execute_result"
    }
   ],
   "source": [
    "a = f['othersmesh']\n",
    "#a.swapaxes(0,-1).shape\n",
    "a.shape"
   ]
  },
  {
   "cell_type": "code",
   "execution_count": 107,
   "id": "63a94339",
   "metadata": {},
   "outputs": [
    {
     "data": {
      "text/plain": [
       "(25, 2241, 3)"
      ]
     },
     "execution_count": 107,
     "metadata": {},
     "output_type": "execute_result"
    }
   ],
   "source": [
    "np.array(f['hex_p1mesh']).shape"
   ]
  },
  {
   "cell_type": "code",
   "execution_count": 112,
   "id": "d9e1c7ab",
   "metadata": {},
   "outputs": [],
   "source": [
    "import matplotlib.pyplot as plt\n",
    "a = 3\n",
    "#b = np.array([43672, 43692, 43700, 43653, 43654, 45076, 45089, 45088, 45087, 41706, 41703, 41704, 41707, 41660, 41669, 45183, 45224, 45220, 45218, 45211, 46664, 46667, 46611, 46610, 46615, 43668])\n",
    "#b = f['hex_p3_2476_0']\n",
    "#x = Mymesh[f'spt_hex_p{a}'][:,b,0]\n",
    "#y = Mymesh[f'spt_hex_p{a}'][:,b,1]\n",
    "#z = Mymesh[f'spt_hex_p{a}'][:,b,2]\n",
    "\n",
    "x0 = np.array(f['hex_p0mesh'])[...,0]\n",
    "x1 = np.array(f['hex_p1mesh'])[...,0]\n",
    "x2 = np.array(f['hex_p2mesh'])[...,0]\n",
    "x3 = np.array(f['hex_p3mesh'])[...,0]\n",
    "x4 = np.array(f['hex_p4mesh'])[...,0]\n",
    "x5 = np.array(f['hex_p5mesh'])[...,0]\n",
    "x6 = np.array(f['hex_p6mesh'])[...,0]\n",
    "x7 = np.array(f['hex_p7mesh'])[...,0]\n",
    "\n",
    "y0 = np.array(f['hex_p0mesh'])[...,1]\n",
    "y1 = np.array(f['hex_p1mesh'])[...,1]\n",
    "y2 = np.array(f['hex_p2mesh'])[...,1]\n",
    "y3 = np.array(f['hex_p3mesh'])[...,1]\n",
    "y4 = np.array(f['hex_p4mesh'])[...,1]\n",
    "y5 = np.array(f['hex_p5mesh'])[...,1]\n",
    "y6 = np.array(f['hex_p6mesh'])[...,1]\n",
    "y7 = np.array(f['hex_p7mesh'])[...,1]\n",
    "\n",
    "z0 = np.array(f['hex_p0mesh'])[...,2]\n",
    "z1 = np.array(f['hex_p1mesh'])[...,2]\n",
    "z2 = np.array(f['hex_p2mesh'])[...,2]\n",
    "z3 = np.array(f['hex_p3mesh'])[...,2]\n",
    "z4 = np.array(f['hex_p4mesh'])[...,2]\n",
    "z5 = np.array(f['hex_p5mesh'])[...,2]\n",
    "z6 = np.array(f['hex_p6mesh'])[...,2]\n",
    "z7 = np.array(f['hex_p7mesh'])[...,2]\n",
    "\n",
    "x8 = np.array(f['othersmesh'])[...,0].swapaxes(0,1)#[:,0]\n",
    "y8 = np.array(f['othersmesh'])[...,1].swapaxes(0,1)#[:,0]\n",
    "z8 = np.array(f['othersmesh'])[...,2].swapaxes(0,1)#[:,0]\n",
    "\n"
   ]
  },
  {
   "cell_type": "code",
   "execution_count": 113,
   "id": "3c0b63b5",
   "metadata": {},
   "outputs": [
    {
     "data": {
      "text/plain": [
       "Text(0, 0.5, 'z')"
      ]
     },
     "execution_count": 113,
     "metadata": {},
     "output_type": "execute_result"
    },
    {
     "data": {
      "image/png": "[encoded data removed]",
      "text/plain": [
       "<Figure size 432x288 with 1 Axes>"
      ]
     },
     "metadata": {
      "needs_background": "light"
     },
     "output_type": "display_data"
    },
    {
     "data": {
      "image/png": "[encoded data removed]",
      "text/plain": [
       "<Figure size 432x288 with 1 Axes>"
      ]
     },
     "metadata": {
      "needs_background": "light"
     },
     "output_type": "display_data"
    },
    {
     "data": {
      "image/png": "[encoded data removed]",
      "text/plain": [
       "<Figure size 432x288 with 1 Axes>"
      ]
     },
     "metadata": {
      "needs_background": "light"
     },
     "output_type": "display_data"
    }
   ],
   "source": [
    "plt.figure()\n",
    "#plt.scatter(x0,y0)\n",
    "#plt.scatter(x1,y1)\n",
    "#plt.scatter(x2,y2)\n",
    "#plt.scatter(x3,y3)\n",
    "#plt.scatter(x4,y4)\n",
    "#plt.scatter(x5,y5)\n",
    "#plt.scatter(x6,y6)\n",
    "#plt.scatter(x7,y7)\n",
    "plt.scatter(x8,y8)\n",
    "plt.axis('equal')\n",
    "\n",
    "plt.xlabel('x')\n",
    "plt.ylabel('y')\n",
    "\n",
    "plt.figure()\n",
    "plt.scatter(y0,z0)\n",
    "plt.scatter(y1,z1)\n",
    "plt.scatter(y2,z2)\n",
    "plt.scatter(y3,z3)\n",
    "plt.scatter(y4,z4)\n",
    "plt.scatter(y5,z5)\n",
    "plt.scatter(y6,z6)\n",
    "plt.scatter(y7,z7)\n",
    "plt.scatter(y8,z8)\n",
    "plt.xlabel('y')\n",
    "plt.ylabel('z')\n",
    "\n",
    "plt.figure()\n",
    "plt.scatter(x0,z0)\n",
    "plt.scatter(x1,z1)\n",
    "plt.scatter(x2,z2)\n",
    "plt.scatter(x3,z3)\n",
    "plt.scatter(x4,z4)\n",
    "plt.scatter(x5,z5)\n",
    "plt.scatter(x6,z6)\n",
    "plt.scatter(x7,z7)\n",
    "plt.scatter(x8,z8)\n",
    "plt.xlabel('x')\n",
    "plt.ylabel('z')"
   ]
  },
  {
   "cell_type": "code",
   "execution_count": 127,
   "id": "ab300911",
   "metadata": {},
   "outputs": [],
   "source": [
    "\n",
    "flag = True\n",
    "if flag == None:\n",
    "    print(flag)"
   ]
  }
 ],
 "metadata": {
  "kernelspec": {
   "display_name": "Python 3 (ipykernel)",
   "language": "python",
   "name": "python3"
  },
  "language_info": {
   "codemirror_mode": {
    "name": "ipython",
    "version": 3
   },
   "file_extension": ".py",
   "mimetype": "text/x-python",
   "name": "python",
   "nbconvert_exporter": "python",
   "pygments_lexer": "ipython3",
   "version": "3.8.8"
  }
 },
 "nbformat": 4,
 "nbformat_minor": 5
}
